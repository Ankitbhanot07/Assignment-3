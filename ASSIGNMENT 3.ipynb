{
 "cells": [
  {
   "cell_type": "markdown",
   "id": "f0da6c8a",
   "metadata": {},
   "source": [
    "1. Why are functions advantageous to have in your programs?\n",
    "2. When does the code in a function run: when it is specified or when it is called?\n",
    "3. What statement creates a function?\n",
    "4. What is the difference between a function and a function call?\n",
    "5. How many global scopes are there in a Python program? How many local scopes?\n",
    "6. What happens to variables in a local scope when the function call returns?\n",
    "7. What is the concept of a return value? Is it possible to have a return value in an expression?\n",
    "8. If a function does not have a return statement, what is the return value of a call to that            function?\n",
    "9.  How do you make a function variable refer to the global variable?\n",
    "10. What is the data type of None?\n",
    "11. What does the sentence import areallyourpetsnamederic do?\n",
    "12. If you had a bacon() feature in a spam module, what would you call it after importing spam?\n",
    "13. What can you do to save a programme from crashing if it encounters an error?\n",
    "14. What is the purpose of the try clause? What is the purpose of the except clause?"
   ]
  },
  {
   "cell_type": "markdown",
   "id": "6815780d",
   "metadata": {},
   "source": [
    "Q1  : Why are functions advantageous to have in your programs?\n",
    "Ans : Reduce the need of duplicate code again and again,and programe shorter and easy anf faster."
   ]
  },
  {
   "cell_type": "markdown",
   "id": "4c3cee7a",
   "metadata": {},
   "source": [
    "Q2  : When does the code in a function run: when it is specified or when it is called?\n",
    "Ans : When functon is called."
   ]
  },
  {
   "cell_type": "markdown",
   "id": "b282f0e7",
   "metadata": {},
   "source": [
    "Q3  : What statement creates a function?\n",
    "Ans : \"def\" keyword."
   ]
  },
  {
   "cell_type": "markdown",
   "id": "30cca54b",
   "metadata": {},
   "source": [
    "Q4  : What is the difference between a function and a function call?\n",
    "Ans : A function is a block to code that does not return any result.A function call is used to\n",
    "      pass perimeters and return result as output."
   ]
  },
  {
   "cell_type": "markdown",
   "id": "676f8e2e",
   "metadata": {},
   "source": [
    "Q5  : How many global scopes are there in a Python program? How many local scopes?\n",
    "Ans : There are only one global scope in python program and local scope creates when function is           called."
   ]
  },
  {
   "cell_type": "markdown",
   "id": "5863358f",
   "metadata": {},
   "source": [
    "Q6  : What happens to variables in a local scope when the function call returns?\n",
    "Ans : When function calls return all the local scops is destroyed and all the variable are frogetten."
   ]
  },
  {
   "cell_type": "markdown",
   "id": "0cc70529",
   "metadata": {},
   "source": [
    "Q7  : What is the concept of a return value? Is it possible to have a return value in an expression?\n",
    "Ans : A return value is the value that function call to evaluate and return value can be used as a         part of expression."
   ]
  },
  {
   "cell_type": "markdown",
   "id": "49bbecd5",
   "metadata": {},
   "source": [
    "Q8  : If a function does not have a return statement,what is the return value of a call to that function?\n",
    "Ans : If there is no return statement in the function the return value is NONE."
   ]
  },
  {
   "cell_type": "markdown",
   "id": "e1bbb431",
   "metadata": {},
   "source": [
    "Q9  : How do you make a function variable refer to the global variable?\n",
    "Ans : global statement will force a variable in a function to refer to the global variable."
   ]
  },
  {
   "cell_type": "markdown",
   "id": "2105a364",
   "metadata": {},
   "source": [
    "Q10 : What is the data type of None?\n",
    "Ans : The data type of None is Nonetype."
   ]
  },
  {
   "cell_type": "markdown",
   "id": "fc471773",
   "metadata": {},
   "source": [
    "Q11 : What does the sentence import areallyourpetsnamederic do?\n",
    "Ans : The import statement areallyourpetsnamederic modeule."
   ]
  },
  {
   "cell_type": "markdown",
   "id": "26a4d8b9",
   "metadata": {},
   "source": [
    "Q12 : If you had a bacon() feature in a spam module, what would you call it after importing spam?\n",
    "Ans : spam.bacon()."
   ]
  },
  {
   "cell_type": "markdown",
   "id": "f2fe6acd",
   "metadata": {},
   "source": [
    "Q13 : What can you do to save a programme from crashing if it encounters an error?\n",
    "Ans : Put the programe in try clause."
   ]
  },
  {
   "cell_type": "markdown",
   "id": "9f08c802",
   "metadata": {},
   "source": [
    "Q14 : What is the purpose of the try clause? What is the purpose of the except clause?\n",
    "Ans : The code which assume to give some error will put in try clause.\n",
    "      The code that executes if an error happens goes in the except clause."
   ]
  },
  {
   "cell_type": "code",
   "execution_count": null,
   "id": "e85cd8b6",
   "metadata": {},
   "outputs": [],
   "source": []
  },
  {
   "cell_type": "code",
   "execution_count": null,
   "id": "69d77912",
   "metadata": {},
   "outputs": [],
   "source": []
  }
 ],
 "metadata": {
  "kernelspec": {
   "display_name": "Python 3 (ipykernel)",
   "language": "python",
   "name": "python3"
  },
  "language_info": {
   "codemirror_mode": {
    "name": "ipython",
    "version": 3
   },
   "file_extension": ".py",
   "mimetype": "text/x-python",
   "name": "python",
   "nbconvert_exporter": "python",
   "pygments_lexer": "ipython3",
   "version": "3.9.12"
  }
 },
 "nbformat": 4,
 "nbformat_minor": 5
}
